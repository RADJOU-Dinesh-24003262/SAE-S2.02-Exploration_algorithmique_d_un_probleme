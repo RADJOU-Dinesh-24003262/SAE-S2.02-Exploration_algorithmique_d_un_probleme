{
 "cells": [
  {
   "cell_type": "code",
   "execution_count": 1,
   "id": "db24aadb-f3dd-4872-af31-e9fae027debe",
   "metadata": {
    "collapsed": false
   },
   "outputs": [],
   "source": [
    "# QUESTION 1\n",
    "\n",
    "def permutation(S,i_1,i_2) :\n",
    "    temp = S[i_1]\n",
    "    S[i_1] = S[i_2]\n",
    "    S[i_2] = temp"
   ]
  },
  {
   "cell_type": "code",
   "execution_count": 2,
   "id": "60668b24-21d4-46a5-b5c9-8d6f7936d4f6",
   "metadata": {
    "collapsed": false
   },
   "outputs": [],
   "source": [
    "# QUESTION 2\n",
    "\n",
    "def dilatation(S,i,x) :\n",
    "    for j in range(len(S[i])) :\n",
    "        S[i][j] = S[i][j] * x"
   ]
  },
  {
   "cell_type": "code",
   "execution_count": 3,
   "id": "e9979876-0201-45b2-8704-d8de38fd5843",
   "metadata": {
    "collapsed": false
   },
   "outputs": [],
   "source": [
    "# QUESTION 3\n",
    "\n",
    "def transvection(S,i_1,i_2,x) :\n",
    "    for j in range(len(S[i_1])) :\n",
    "        S[i_1][j] += x * S[i_2][j]"
   ]
  },
  {
   "cell_type": "code",
   "execution_count": 4,
   "id": "8878bd70-332b-45d8-8cb3-b5218fd4af6d",
   "metadata": {
    "collapsed": false
   },
   "outputs": [],
   "source": [
    "# QUESTION 4\n",
    "\n",
    "def membre_gauche_nul(E) :\n",
    "    res = True\n",
    "    for i in range(len(E)-1) :\n",
    "        if ( E[i] != 0 ) :\n",
    "            res = False\n",
    "    return res"
   ]
  },
  {
   "cell_type": "code",
   "execution_count": 5,
   "id": "19949562-28a8-4c78-9456-1316a7e9ac61",
   "metadata": {
    "collapsed": false
   },
   "outputs": [],
   "source": [
    "# QUESTION 5\n",
    "\n",
    "def ligne_a_simplifier(S) :\n",
    "    res = -1\n",
    "    i = 0\n",
    "    while ((res == -1) & (i < len(S))) :\n",
    "        if (membre_gauche_nul(S[i])) :\n",
    "            res = i\n",
    "        else :\n",
    "            i += 1\n",
    "    return res"
   ]
  },
  {
   "cell_type": "code",
   "execution_count": 6,
   "id": "c997f667-3cb6-48ce-9727-7225e021f1d9",
   "metadata": {
    "collapsed": false
   },
   "outputs": [],
   "source": [
    "# QUESTION 6\n",
    "\n",
    "def simplifier(S) :\n",
    "    res = True\n",
    "    i = ligne_a_simplifier(S)\n",
    "    while ((i != -1) & res) : # Tant qu'on a une ligne à simplifier et qu'on n'a pas vu d'équation absurde\n",
    "        if ( S[i][len(S[i])-1] == 0 ) : # Si la ligne à simplifier est une équation triviale\n",
    "            del S[i]\n",
    "            i = ligne_a_simplifier(S)\n",
    "        else : # Sinon la ligne à simplifier est une équation absurde\n",
    "            res = False\n",
    "    return res"
   ]
  },
  {
   "cell_type": "code",
   "execution_count": 7,
   "id": "008b73fd-53e7-46b1-81de-2115f244e590",
   "metadata": {
    "collapsed": false
   },
   "outputs": [
    {
     "name": "stdout",
     "output_type": "stream",
     "text": [
      "[3, 2]\n"
     ]
    }
   ],
   "source": [
    "# QUESTION 7\n",
    "\n",
    "# On balaie la colonne 0 de la ligne k jusqu'en bas, puie la colonne 1 de la ligne k jusqu'en bas, etc. jusqu'à trouver un coefficient non nul (pivot).\n",
    "def coordonnees_pivot(S,k) :\n",
    "    i = k\n",
    "    j = 0\n",
    "    while (S[i][j] == 0) :\n",
    "        i += 1\n",
    "        if (i == len(S)) :\n",
    "            i = k\n",
    "            j += 1\n",
    "    return [i,j]\n",
    "\n",
    "S=[[1,-1,1,-1,2],[0,2,1,-3,1],[0,0,0,4,3],[0,0,5,5,-10],[0,0,1,2,2]]\n",
    "print(coordonnees_pivot(S,2))"
   ]
  },
  {
   "cell_type": "code",
   "execution_count": 8,
   "id": "a0cf866d-4b53-4fd1-bfb7-611233627af3",
   "metadata": {
    "collapsed": false
   },
   "outputs": [
    {
     "name": "stdout",
     "output_type": "stream",
     "text": [
      "[[1, -1, 1, -1, 2], [0, 2, 1, -3, 1], [0, 0, 5, 5, -10], [0.0, 0.0, 0.0, 4.0, 3.0], [0.0, 0.0, 0.0, 1.0, 4.0]]\n"
     ]
    }
   ],
   "source": [
    "# QUESTION 8\n",
    "\n",
    "def pivoter(S,k) :\n",
    "    [i0,j0] = coordonnees_pivot(S,k)\n",
    "    permutation(S,i0,k) # On remonte l'équation pivot\n",
    "    for i in range(k+1,len(S)) :\n",
    "        transvection(S,i,k,-S[i][j0]/S[k][j0]) # On se sert du pivot pour mettre des 0 en-dessous du pivot sur sa colonne\n",
    "\n",
    "S=[[1,-1,1,-1,2],[0,2,1,-3,1],[0,0,0,4,3],[0,0,5,5,-10],[0,0,1,2,2]]\n",
    "pivoter(S,2)\n",
    "print(S)"
   ]
  },
  {
   "cell_type": "code",
   "execution_count": 9,
   "id": "a011fedf-475c-4ea5-a7df-f929a26b7542",
   "metadata": {
    "collapsed": false
   },
   "outputs": [
    {
     "name": "stdout",
     "output_type": "stream",
     "text": [
      "True\n",
      "[[-2, 1, -1, -1, -1], [0.0, 3.0, -1.0, -3.0, 0.0], [0.0, 0.0, -0.6666666666666666, -3.0, 2.0], [0.0, 0.0, 0.0, -4.5, 3.0]]\n",
      "False\n",
      "[[1, 1, 2, -5, 3], [0.0, 3.0, -5.0, 1.0, -9.0], [0.0, 0.0, -6.666666666666666, 13.333333333333334, -8.0], [0.0, 0.0, 0.0, 0.0, -12.0]]\n",
      "True\n",
      "[[1, 2, 3, 1], [0.0, 1.0, 5.0, 1.0], [0.0, 0.0, -5.0, -1.0]]\n"
     ]
    }
   ],
   "source": [
    "# QUESTION 9\n",
    "\n",
    "def triangulariser(S) :\n",
    "    res = simplifier(S) # res signifie \"on n'a pas vu d'équation absurde\"\n",
    "    k = 0\n",
    "    while (res & (k < len(S)-1)) : # On reste dans la boucle tant qu'on n'a pas vu d'équation absurde et tant qu'on n'est pas arrivé à la dernière ligne du système\n",
    "        pivoter(S,k)\n",
    "        res = simplifier(S) # On simplifie le système et on met à jour res pour sortir de la boucle si on a une équation absurde\n",
    "        k += 1\n",
    "    return res # Si on n'a jamais eu d'équation absurde alors on a des solutions (au moins une)\n",
    "\n",
    "S_1 = [[-2,1,-1,-1,-1],[2,2,0,-2,1],[-2,-1,-1,-2,1],[-2,1,0,-1,-1]]\n",
    "print(triangulariser(S_1))\n",
    "print(S_1)\n",
    "S_2 = [[1,1,2,-5,3],[2,5,-1,-9,-3],[2,1,-1,3,1],[1,-3,2,7,-5]]\n",
    "print(triangulariser(S_2))\n",
    "print(S_2)\n",
    "S_3 = [[1,2,3,1],[2,4,1,1],[-3,-5,-4,-2]]\n",
    "print(triangulariser(S_3))\n",
    "print(S_3)"
   ]
  },
  {
   "cell_type": "code",
   "execution_count": null,
   "id": "a4e69d3b-77e9-49c3-8f6f-6357b22ef4bf",
   "metadata": {
    "collapsed": false
   },
   "outputs": [
    {
     "name": "stdout",
     "output_type": "stream",
     "text": [
      "[[0.5, -0.6666666666666666, -0.0, -0.6666666666666666]]\n"
     ]
    }
   ],
   "source": [
    "# QUESTION 10\n",
    "\n",
    "def resoudre(S) : # Attention : le code ci-dessous est incomplet car le cas où il y a une infinité de solutions est manquant\n",
    "    res = []\n",
    "    if triangulariser(S) : # On essaie de triangulariser S, si on y parvient alors il y a des solutions et on rentre dans le \"if\" pour les trouver\n",
    "        p = len(S[0])-1 # Nombre d'inconnues\n",
    "        n = len(S) # Nombre d'équations\n",
    "        if n == p : # Système déterminé : une unique solution\n",
    "            sol = [0]*p #  La solution est un vecteur de taille p, on l'initialise avec des zéros\n",
    "            for i in range(p-1,-1,-1) : # On remonte le système de bas en haut\n",
    "                sol[i] = S[i][p]\n",
    "                for j in range(i+1,p) :\n",
    "                    sol[i] -= sol[j] * S[i][j] # On isole la i-ème inconnue en passant les autres (déjà calculées) de l'autre côté de l'équation\n",
    "                sol[i] /= S[i][i] # Il faut diviser par le coefficient qu'il y avait devant la i-ème inconnue\n",
    "            res.append(sol)\n",
    "        else : # Système sous-déterminé : infinité de solutions\n",
    "            pass # CAS A FAIRE !\n",
    "    return res\n",
    "    \n",
    "S = [[-2, 1, -1, -1, -1], [2, 2, 0, -2, 1], [-2, -1, -1, -2, 1], [-2, 1, 0, -1, -1]]\n",
    "print(resoudre(S))"
   ]
  },
  {
   "cell_type": "code",
   "execution_count": 11,
   "id": "cb7d90ac-73ed-4899-9163-95b9630f5f0b",
   "metadata": {
    "collapsed": false
   },
   "outputs": [
    {
     "name": "stdout",
     "output_type": "stream",
     "text": [
      "[[ 0.5       ]\n",
      " [-0.66666667]\n",
      " [ 0.        ]\n",
      " [-0.66666667]]\n"
     ]
    }
   ],
   "source": [
    "# QUESTION 11\n",
    "\n",
    "import numpy as np\n",
    "A = np.array([[-2, 1, -1, -1], [2, 2, 0, -2], [-2, -1, -1, -2], [-2, 1, 0, -1]])\n",
    "Y = np.array([[-1],[1],[1],[-1]])\n",
    "X = np.linalg.solve(A,Y)\n",
    "print(X) # On a une unique solution [1/2,-2/3,0,-2/3]"
   ]
  },
  {
   "cell_type": "code",
   "execution_count": 12,
   "id": "d8e07af6-73dd-4c83-bd96-b849762139a2",
   "metadata": {
    "collapsed": false
   },
   "outputs": [
    {
     "data": {
      "text/plain": [
       "{x1: -4*x2/3 - x3/3 + 1/3, x4: 1}"
      ]
     },
     "execution_count": 12,
     "metadata": {},
     "output_type": "execute_result"
    }
   ],
   "source": [
    "# QUESTION 12\n",
    "\n",
    "import sympy as sp\n",
    "x1,x2,x3,x4 = sp.symbols('x1 x2 x3 x4')\n",
    "Eq1 = sp.Eq(3*x1 + 4*x2 + 1*x3 + 2*x4, 3)\n",
    "Eq2 = sp.Eq(6*x1 + 8*x2 + 2*x3 + 5*x4, 7)\n",
    "Eq3 = sp.Eq(9*x1 + 12*x2 + 3*x3 + 10*x4, 13)\n",
    "sp.solve([Eq1,Eq2,Eq3], [x1,x2,x3,x4]) # On a une infinité de solutions, on voit ici dans l'output que x2 et x3 ont été pris comme paramètres, et x1 et x4 sont exprimés en fonction de x2 et x3."
   ]
  }
 ],
 "metadata": {
  "kernelspec": {
   "argv": [
    "/usr/bin/python3",
    "-m",
    "ipykernel",
    "--HistoryManager.enabled=False",
    "--matplotlib=inline",
    "-c",
    "%config InlineBackend.figure_formats = set(['retina'])\nimport matplotlib; matplotlib.rcParams['figure.figsize'] = (12, 7)",
    "-f",
    "{connection_file}"
   ],
   "display_name": "Python 3 (system-wide)",
   "env": {},
   "language": "python",
   "metadata": {
    "cocalc": {
     "description": "Python 3 programming language",
     "priority": 100,
     "url": "https://www.python.org/"
    }
   },
   "name": "python3",
   "resource_dir": "/ext/jupyter/kernels/python3"
  },
  "language_info": {
   "codemirror_mode": {
    "name": "ipython",
    "version": 3
   },
   "file_extension": ".py",
   "mimetype": "text/x-python",
   "name": "python",
   "nbconvert_exporter": "python",
   "pygments_lexer": "ipython3",
   "version": "3.10.7"
  }
 },
 "nbformat": 4,
 "nbformat_minor": 4
}
